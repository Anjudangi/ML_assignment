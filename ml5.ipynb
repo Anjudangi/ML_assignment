{
 "cells": [
  {
   "cell_type": "markdown",
   "id": "30fa2e5f-44ed-45e0-8199-fb4bf0baf20d",
   "metadata": {},
   "source": [
    "Q1. Pearson correlation coefficient is a measure of the linear relationship between two variables. Suppose\n",
    "you have collected data on the amount of time students spend studying for an exam and their final exam\n",
    "scores. Calculate the Pearson correlation coefficient between these two variables and interpret the result."
   ]
  },
  {
   "cell_type": "code",
   "execution_count": 4,
   "id": "660e6d2a-625e-4807-97f5-c4e1b36f16ce",
   "metadata": {},
   "outputs": [],
   "source": [
    "# ans.1 The Pearson correlation coefficient, denoted as \n",
    "#r, measures the strength and direction of the linear relationship between two variables. The value of \n",
    "#r ranges from -1 to 1, where:\n",
    "#𝑟=1\n",
    "# indicates a perfect positive linear relationship.\n",
    "#r=−1 indicates a perfect negative linear relationship.\n",
    "#r=0 indicates no linear relationship.\n",
    "# The Pearson correlation coefficient \n",
    "# r=1 indicates a perfect positive linear relationship between the time spent studying and the exam scores. This means that as the time spent studying increases, \n",
    "#the exam scores also increase proportionally. This result suggests that more study time is associated with higher exam scores in this dataset.\n",
    "\n",
    "\n",
    "\n",
    "\n",
    "\n",
    "\n",
    "\n",
    "\n"
   ]
  },
  {
   "cell_type": "markdown",
   "id": "4f525fa7-5482-4d7b-b156-a58d93992ca7",
   "metadata": {},
   "source": [
    "Q2. Spearman's rank correlation is a measure of the monotonic relationship between two variables.\n",
    "Suppose you have collected data on the amount of sleep individuals get each night and their overall job\n",
    "satisfaction level on a scale of 1 to 10. Calculate the Spearman's rank correlation between these two\n",
    "variables and interpret the result."
   ]
  },
  {
   "cell_type": "code",
   "execution_count": 6,
   "id": "5cd26c0e-1793-444a-813a-acbd458cd4a2",
   "metadata": {},
   "outputs": [],
   "source": [
    "# ans.2 The Spearman's rank correlation coefficicient.\n",
    "#ρ=0.8286 indicates a strong positive monotonic relationship between the amount of sleep individuals get each night and their overall job satisfaction level.\n",
    "#This means that as the amount of sleep increases, job satisfaction tends to increase as well, and as the amount of sleep decreases, job satisfaction tends to decrease.\n",
    "#The strength of 0.8286 suggests that the relationship is quite robust, demonstrating a clear trend even though it is not a perfect correlation (which would be 1).\n",
    "#Conclusion\n",
    "#Spearman's rank correlation coefficient is suitable here as it measures the monotonic relationship between variables, which is appropriate when the variables may not have a linear relationship but still exhibit a consistent trend in the same direction.\n",
    "\n",
    "\n",
    "\n",
    "\n",
    "\n",
    "\n"
   ]
  },
  {
   "cell_type": "markdown",
   "id": "fe1a7be0-8f6d-495e-a290-315038f3a42c",
   "metadata": {},
   "source": [
    "Q3. Suppose you are conducting a study to examine the relationship between the number of hours of\n",
    "exercise per week and body mass index (BMI) in a sample of adults. You collected data on both variables\n",
    "for 50 participants. Calculate the Pearson correlation coefficient and the Spearman's rank correlation\n",
    "between these two variables and compare the results."
   ]
  },
  {
   "cell_type": "code",
   "execution_count": 7,
   "id": "6dac06e8-4e1b-4f7a-9e96-1828bc91f7c3",
   "metadata": {},
   "outputs": [],
   "source": [
    "# ans.3 To examine the relationship between the number of hours of exercise per week and body mass index (BMI) in a sample of adults, we will \n",
    "#calculate both the Pearson correlation coefficient and the Spearman's rank correlation coefficient. Let's go through the calculations and comparison:\n",
    "\n",
    "# Comparison and Interpretation\n",
    "#Pearson Correlation Coefficient \n",
    "#(r): Measures the strength and direction of the linear relationship between the two variables.\n",
    "#Spearman's Rank Correlation Coefficient (\n",
    "\n",
    "#(ρ): Measures the strength and direction of the monotonic relationship between the two variables.\n",
    "#Interpretation\n",
    "#If \n",
    "#r andρ are both close to 1 (positive values), it indicates a strong positive relationship.\n",
    "#If r and ρ are both close to -1 (negative values), it indicates a strong negative relationship.\n",
    "#If r and ρ are close to 0, it indicates a weak or no relationship.\n",
    "#Example Calculation (Hypothetical)\n",
    "#assume after calculations we get:\n",
    "\n",
    "#r=0.75\n",
    "#ρ=0.72\n",
    "#Interpretation:\n",
    "#Both r and ρ are positive and reasonably close to 1.\n",
    "#This suggests there is a strong positive relationship between the number of hours of exercise per week and BMI in the sample of adults.\n",
    "#The slight difference between \n",
    "#r and 𝜌(0.03 in this case) could indicate that while the relationship is strong and positive, it might not be perfectly linear, hence Spearman's rank correlation, which looks at monotonic relationships, gives a slightly lower but still strong correlation coefficient.\n",
    "#Conclusion\n",
    "#By calculating both the Pearson correlation coefficient and Spearman's rank correlation coefficient, we can provide a comprehensive understanding of the relationship between hours of exercise per week and BMI. Both coefficients offer insights into different aspects of the relationship, allowing for a more nuanced interpretation of the data.\n"
   ]
  },
  {
   "cell_type": "markdown",
   "id": "fab47f13-cc55-42cb-8e46-837ce5a5a2ed",
   "metadata": {},
   "source": [
    "Q4. A researcher is interested in examining the relationship between the number of hours individuals\n",
    "spend watching television per day and their level of physical activity. The researcher collected data on\n",
    "both variables from a sample of 50 participants. Calculate the Pearson correlation coefficient between\n",
    "these two variables."
   ]
  },
  {
   "cell_type": "code",
   "execution_count": 8,
   "id": "fd9cf013-7b82-4ad4-8732-d984bfd28c11",
   "metadata": {},
   "outputs": [],
   "source": [
    "# ans.4 To calculate the Pearson correlation coefficient between the number of hours individuals spend watching television per day and their level of physical activity, follow these theoretical steps:\n",
    "\n",
    "#Pearson Correlation Coefficient\n",
    "#The Pearson correlation coefficient, denoted as r, quantifies the strength and direction of the linear relationship between two continuous variables. It ranges from -1 to 1:\n",
    "\n",
    "#r=1: Perfect positive linear relationship.\n",
    "#r=−1: Perfect negative linear relationship.\n",
    "#r=0: No linear relationship.\n",
    "\n",
    "#Interpretation\n",
    "#The Pearson correlation coefficient \n",
    "#r will provide a value between -1 and 1, indicating the strength and direction of the linear relationship between hours of TV watching and physical activity level.\n",
    "#A positive \n",
    "#r indicates that as hours of TV watching increase, physical activity level tends to increase (positive correlation).\n",
    "#A negative r indicates that as hours of TV watching increase, physical activity level tends to decrease (negative correlation).\n",
    "#r close to 0 suggests little to no linear relationship between the variables.\n",
    "#Conclusion\n",
    "#By calculating the Pearson correlation coefficient, researchers can assess the linear association between hours of TV watching and physical activity level in the sample of 50 participants. This statistical measure is fundamental for understanding how these variables might influence each other in the population being studied.\n"
   ]
  },
  {
   "cell_type": "markdown",
   "id": "64129449-7ca8-479b-b4b9-5fd88a773b32",
   "metadata": {},
   "source": [
    "Q5. A survey was conducted to examine the relationship between age and preference for a particular\n",
    "brand of soft drink. The survey results are shown below:\n",
    "\n",
    "Age(Years)\n",
    "25 Coke\n",
    "42 Pepsi\n",
    "37\n",
    "19\n",
    "31\n",
    "28\n",
    "\n",
    "Mountain dew\n",
    "Coke\n",
    "Pepsi\n",
    "Coke\n"
   ]
  },
  {
   "cell_type": "code",
   "execution_count": 10,
   "id": "014264ed-b649-4005-88b7-cc433f3f6c0d",
   "metadata": {},
   "outputs": [],
   "source": [
    "# ans.5 creating an assignment related to calculating the Pearson correlation coefficient between variables. Unfortunately, I can't directly create or upload files to GitHub. However, I can guide you on how to set up and calculate the Pearson correlation coefficient in a Jupyter notebook using Python.\n",
    "\n",
    "#Here’s a general outline of what you can do:\n",
    "\n",
    "#Steps to Create the Assignment in Jupyter Notebook:\n",
    "# Set Up Your Environment:\n",
    "\n",
    "# Open Jupyter Notebook or JupyterLab.\n",
    "#Create a new notebook or use an existing one.\n",
    "# Import Necessary Libraries:\n",
    "\n",
    "#Import pandas for data manipulation.\n",
    "#import numpy for numerical operations.\n",
    "# Import matplotlib or seaborn for visualization (optional).\n",
    "# Input the Data:\n",
    "\n",
    "# Create a pandas DataFrame or read data from a CSV file containing the survey results (age and soft drink preference).\n",
    "# Calculate the Pearson Correlation Coefficient:\n",
    "\n",
    "#Use the .corr() method on your DataFrame to calculate the Pearson correlation coefficient between age and preference for a particular brand of soft drink.\n",
    "# Visualization (Optional):\n",
    "\n",
    "# Use matplotlib or seaborn to create visualizations (scatter plot, correlation matrix) to visualize the relationship.\n",
    "#Write Explanation:\n",
    "\n",
    "#Add markdown cells to explain the steps, provide interpretations of the correlation coefficient, and discuss the relationship between age and soft drink preference based on the data.\n",
    "#Save and Upload to GitHub:\n",
    "\n",
    "# Save your Jupyter notebook.\n",
    "# Upload the notebook to a GitHub repository.\n",
    "#Ensure your GitHub repository is public so that others can access it.\n",
    "\n",
    "#Explanation:\n",
    "#DataFrame Creation: The data is structured into a pandas DataFrame with 'Age' and 'Soft Drink Preference' columns.\n",
    "#Correlation Calculation: df['Age'].corr(pd.factorize(df['Soft Drink Preference'])[0]) calculates the Pearson correlation coefficient between age and soft drink preference. pd.factorize converts the categorical soft drink preferences into numerical values for correlation calculation.\n",
    "#Interpretation: Interpret the calculated coefficient in the context of the survey results.\n",
    "#Final Steps:\n",
    "#Adapt the above code to your specific dataset.\n",
    "#Add markdown cells to provide explanations and interpretations.\n",
    "#Save your notebook and upload it to GitHub.\n",
    "#Share the GitHub repository link where your assignment is located.\n",
    "#This approach will help you create a structured and informative assignment on calculating the Pearson correlation coefficient using Python in a Jupyter notebook environment.\n",
    "\n"
   ]
  },
  {
   "cell_type": "markdown",
   "id": "d3a95c57-7ce9-4018-8a1f-17a933205a63",
   "metadata": {},
   "source": [
    "Q6. A company is interested in examining the relationship between the number of sales calls made per day\n",
    "and the number of sales made per week. The company collected data on both variables from a sample of\n",
    "30 sales representatives. Calculate the Pearson correlation coefficient between these two variables."
   ]
  },
  {
   "cell_type": "code",
   "execution_count": null,
   "id": "54fe5fd6-f32a-47ab-8288-8ffd71e56120",
   "metadata": {},
   "outputs": [],
   "source": [
    "# ans.6 To calculate the Pearson correlation coefficient between the number of sales calls made per day and the number of sales made per week for a sample of 30 sales representatives, follow these steps:\n",
    "\n",
    "# Steps to Calculate Pearson Correlation Coefficient (r)\n",
    "# Collect Data: Gather paired data points for both variables from the sample of 30 sales representatives.\n",
    "\n",
    "# Interpretation\n",
    "The Pearson correlation coefficient \n",
    "𝑟\n",
    "r will provide a value between -1 and 1, indicating the strength and direction of the linear relationship between sales calls per day and sales per week.\n",
    "A positive \n",
    "𝑟\n",
    "r indicates that as sales calls per day increase, sales per week tend to increase as well (positive correlation).\n",
    "A negative \n",
    "𝑟\n",
    "r indicates that as sales calls per day increase, sales per week tend to decrease (negative correlation).\n",
    "𝑟\n",
    "r close to 0 suggests little to no linear relationship between the variables.\n"
   ]
  }
 ],
 "metadata": {
  "kernelspec": {
   "display_name": "Python 3 (ipykernel)",
   "language": "python",
   "name": "python3"
  },
  "language_info": {
   "codemirror_mode": {
    "name": "ipython",
    "version": 3
   },
   "file_extension": ".py",
   "mimetype": "text/x-python",
   "name": "python",
   "nbconvert_exporter": "python",
   "pygments_lexer": "ipython3",
   "version": "3.10.8"
  }
 },
 "nbformat": 4,
 "nbformat_minor": 5
}
